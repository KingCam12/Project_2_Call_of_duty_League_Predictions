{
 "cells": [
  {
   "cell_type": "markdown",
   "metadata": {},
   "source": [
    "Import libraries and load in initial data for cleaning and restructuring"
   ]
  },
  {
   "cell_type": "code",
   "execution_count": 2,
   "metadata": {},
   "outputs": [],
   "source": [
    "import pandas as pd\n",
    "import matplotlib.pyplot as plt\n",
    "import itertools\n",
    "\n",
    "# Load the uploaded CSV files\n",
    "file_paths = {\n",
    "    \"league_stats\": \"Call_Of_Duty_League_Stats.csv\",\n",
    "    \"player_stats\": \"CDL_PlayerStats2025.csv\",\n",
    "    \"roster\": \"CDL_Roster.csv\",\n",
    "    \"team_stats\": \"CDL_Team_Stats.csv\",\n",
    "}\n"
   ]
  },
  {
   "cell_type": "markdown",
   "metadata": {},
   "source": [
    "After merging the data and changing the name column to ID"
   ]
  },
  {
   "cell_type": "code",
   "execution_count": 1,
   "metadata": {},
   "outputs": [
    {
     "data": {
      "text/plain": [
       "'Cleaned_Team_Data.csv'"
      ]
     },
     "execution_count": 1,
     "metadata": {},
     "output_type": "execute_result"
    }
   ],
   "source": [
    "# Re-import necessary libraries after reset\n",
    "import pandas as pd\n",
    "\n",
    "# Reload the uploaded dataset\n",
    "file_path = 'Combined_Team_Data_with_Averages.csv'\n",
    "data = pd.read_csv(file_path)\n",
    "\n",
    "# Retain only the desired columns\n",
    "columns_to_keep = ['ID', 'Current Team', 'Overall KD', 'Search Destroy KD', 'Control KD', 'Hardpoint KD']\n",
    "cleaned_data = data[columns_to_keep]\n",
    "\n",
    "# Save the cleaned dataset\n",
    "cleaned_file_path = \"Cleaned_Team_Data.csv\"\n",
    "cleaned_data.to_csv(cleaned_file_path, index=False)\n",
    "\n",
    "cleaned_file_path.head()\n"
   ]
  },
  {
   "cell_type": "markdown",
   "metadata": {},
   "source": [
    "Create predictions for matchups based on stats of the overall team performance."
   ]
  },
  {
   "cell_type": "code",
   "execution_count": 2,
   "metadata": {},
   "outputs": [
    {
     "name": "stdout",
     "output_type": "stream",
     "text": [
      "Matchup Predictions:\n",
      "      Team A      Team B  Team A Total Stats  Team B Total Stats  \\\n",
      "0  VAN Surge   Cloud9 NY              19.255            17.10000   \n",
      "1  VAN Surge   TOR Ultra              19.255            21.44250   \n",
      "2  VAN Surge  BOS Breach              19.255            20.80750   \n",
      "3  VAN Surge    ATL FaZe              19.255            18.55875   \n",
      "4  VAN Surge   OpTic TEX              19.255            20.92625   \n",
      "\n",
      "  Predicted Winner  \n",
      "0        VAN Surge  \n",
      "1        TOR Ultra  \n",
      "2       BOS Breach  \n",
      "3        VAN Surge  \n",
      "4        OpTic TEX  \n"
     ]
    }
   ],
   "source": [
    "# Generate matchups and predict outcomes based on higher total stats\n",
    "teams = cleaned_data['Current Team'].unique()\n",
    "matchups = []\n",
    "\n",
    "# Loop through all pairwise matchups\n",
    "for i in range(len(teams)):\n",
    "    for j in range(i + 1, len(teams)):\n",
    "        team1 = teams[i]\n",
    "        team2 = teams[j]\n",
    "        \n",
    "        # Get stats for both teams\n",
    "        team1_stats = cleaned_data[cleaned_data['Current Team'] == team1][['Overall KD', 'Search Destroy KD', 'Control KD', 'Hardpoint KD']].sum().sum()\n",
    "        team2_stats = cleaned_data[cleaned_data['Current Team'] == team2][['Overall KD', 'Search Destroy KD', 'Control KD', 'Hardpoint KD']].sum().sum()\n",
    "        \n",
    "        # Predict the winner\n",
    "        winner = team1 if team1_stats > team2_stats else team2\n",
    "        matchups.append({\n",
    "            'Team A': team1,\n",
    "            'Team B': team2,\n",
    "            'Team A Total Stats': team1_stats,\n",
    "            'Team B Total Stats': team2_stats,\n",
    "            'Predicted Winner': winner\n",
    "        })\n",
    "\n",
    "# Convert the results into a DataFrame\n",
    "matchups_df = pd.DataFrame(matchups)\n",
    "\n",
    "# Display the predictions\n",
    "print(\"Matchup Predictions:\")\n",
    "print(matchups_df.head())\n",
    "\n"
   ]
  },
  {
   "cell_type": "code",
   "execution_count": 3,
   "metadata": {},
   "outputs": [
    {
     "ename": "NameError",
     "evalue": "name 'train_test_split' is not defined",
     "output_type": "error",
     "traceback": [
      "\u001b[1;31m---------------------------------------------------------------------------\u001b[0m",
      "\u001b[1;31mNameError\u001b[0m                                 Traceback (most recent call last)",
      "Cell \u001b[1;32mIn[3], line 11\u001b[0m\n\u001b[0;32m      8\u001b[0m y \u001b[38;5;241m=\u001b[39m matchups_df[\u001b[38;5;124m'\u001b[39m\u001b[38;5;124mTarget\u001b[39m\u001b[38;5;124m'\u001b[39m]\n\u001b[0;32m     10\u001b[0m \u001b[38;5;66;03m# Train-test split\u001b[39;00m\n\u001b[1;32m---> 11\u001b[0m X_train, X_test, y_train, y_test \u001b[38;5;241m=\u001b[39m \u001b[43mtrain_test_split\u001b[49m(X, y, test_size\u001b[38;5;241m=\u001b[39m\u001b[38;5;241m0.2\u001b[39m, random_state\u001b[38;5;241m=\u001b[39m\u001b[38;5;241m42\u001b[39m)\n\u001b[0;32m     13\u001b[0m \u001b[38;5;66;03m# Train Logistic Regression model\u001b[39;00m\n\u001b[0;32m     14\u001b[0m model \u001b[38;5;241m=\u001b[39m LogisticRegression()\n",
      "\u001b[1;31mNameError\u001b[0m: name 'train_test_split' is not defined"
     ]
    }
   ],
   "source": [
    "# Features: Create differences in stats\n",
    "matchups_df['Stat Diff'] = matchups_df['Team A Total Stats'] - matchups_df['Team B Total Stats']\n",
    "matchups_df['Target'] = matchups_df['Predicted Winner'] == matchups_df['Team A']  # Team A wins = 1, otherwise 0\n",
    "matchups_df['Target'] = matchups_df['Target'].astype(int)\n",
    "\n",
    "# Features and target\n",
    "X = matchups_df[['Stat Diff']]\n",
    "y = matchups_df['Target']\n",
    "\n",
    "# Train-test split\n",
    "X_train, X_test, y_train, y_test = train_test_split(X, y, test_size=0.2, random_state=42)\n",
    "\n",
    "# Train Logistic Regression model\n",
    "model = LogisticRegression()\n",
    "model.fit(X_train, y_train)\n",
    "\n",
    "# Predict and evaluate\n",
    "y_pred = model.predict(X_test)\n",
    "accuracy = accuracy_score(y_test, y_pred)\n",
    "report = classification_report(y_test, y_pred)\n",
    "\n",
    "# Display results\n",
    "print(f\"Model Accuracy: {accuracy:.2%}\")\n",
    "print(\"Classification Report:\")\n",
    "print(report)\n",
    "\n",
    "accuracy"
   ]
  }
 ],
 "metadata": {
  "kernelspec": {
   "display_name": "Python 3",
   "language": "python",
   "name": "python3"
  },
  "language_info": {
   "codemirror_mode": {
    "name": "ipython",
    "version": 3
   },
   "file_extension": ".py",
   "mimetype": "text/x-python",
   "name": "python",
   "nbconvert_exporter": "python",
   "pygments_lexer": "ipython3",
   "version": "3.11.10"
  }
 },
 "nbformat": 4,
 "nbformat_minor": 2
}
